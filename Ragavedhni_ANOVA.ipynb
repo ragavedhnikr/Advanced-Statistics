{
 "cells": [
  {
   "cell_type": "markdown",
   "metadata": {},
   "source": [
    "## 1. A research laboratory was developing a new compound for the relief of severe cases of hay fever. In an experiment with 36 volunteers, the amounts of the two active ingredients (A & B) in the compound were varied at three levels each. Randomization was used in assigning four volunteers to each of the nine treatments. "
   ]
  },
  {
   "cell_type": "code",
   "execution_count": 1,
   "metadata": {},
   "outputs": [
    {
     "name": "stderr",
     "output_type": "stream",
     "text": [
      "D:\\Anaconda\\lib\\site-packages\\statsmodels\\tools\\_testing.py:19: FutureWarning: pandas.util.testing is deprecated. Use the functions in the public API at pandas.testing instead.\n",
      "  import pandas.util.testing as tm\n"
     ]
    }
   ],
   "source": [
    "import numpy as np\n",
    "import pandas as pd\n",
    "import seaborn as sns\n",
    "import matplotlib.pyplot as plt\n",
    "from statsmodels.stats.multicomp import pairwise_tukeyhsd\n",
    "from statsmodels.formula.api import ols\n",
    "from statsmodels.stats.anova import _get_covariance,anova_lm\n",
    "%matplotlib inline"
   ]
  },
  {
   "cell_type": "code",
   "execution_count": 2,
   "metadata": {},
   "outputs": [],
   "source": [
    "fever = pd.read_csv('Fever.csv')"
   ]
  },
  {
   "cell_type": "code",
   "execution_count": 3,
   "metadata": {},
   "outputs": [
    {
     "data": {
      "text/html": [
       "<div>\n",
       "<style scoped>\n",
       "    .dataframe tbody tr th:only-of-type {\n",
       "        vertical-align: middle;\n",
       "    }\n",
       "\n",
       "    .dataframe tbody tr th {\n",
       "        vertical-align: top;\n",
       "    }\n",
       "\n",
       "    .dataframe thead th {\n",
       "        text-align: right;\n",
       "    }\n",
       "</style>\n",
       "<table border=\"1\" class=\"dataframe\">\n",
       "  <thead>\n",
       "    <tr style=\"text-align: right;\">\n",
       "      <th></th>\n",
       "      <th>A</th>\n",
       "      <th>B</th>\n",
       "      <th>Volunteer</th>\n",
       "      <th>Relief</th>\n",
       "    </tr>\n",
       "  </thead>\n",
       "  <tbody>\n",
       "    <tr>\n",
       "      <th>0</th>\n",
       "      <td>1</td>\n",
       "      <td>1</td>\n",
       "      <td>1</td>\n",
       "      <td>2.4</td>\n",
       "    </tr>\n",
       "    <tr>\n",
       "      <th>1</th>\n",
       "      <td>1</td>\n",
       "      <td>1</td>\n",
       "      <td>2</td>\n",
       "      <td>2.7</td>\n",
       "    </tr>\n",
       "    <tr>\n",
       "      <th>2</th>\n",
       "      <td>1</td>\n",
       "      <td>1</td>\n",
       "      <td>3</td>\n",
       "      <td>2.3</td>\n",
       "    </tr>\n",
       "    <tr>\n",
       "      <th>3</th>\n",
       "      <td>1</td>\n",
       "      <td>1</td>\n",
       "      <td>4</td>\n",
       "      <td>2.5</td>\n",
       "    </tr>\n",
       "    <tr>\n",
       "      <th>4</th>\n",
       "      <td>1</td>\n",
       "      <td>2</td>\n",
       "      <td>1</td>\n",
       "      <td>4.6</td>\n",
       "    </tr>\n",
       "  </tbody>\n",
       "</table>\n",
       "</div>"
      ],
      "text/plain": [
       "   A  B  Volunteer  Relief\n",
       "0  1  1          1     2.4\n",
       "1  1  1          2     2.7\n",
       "2  1  1          3     2.3\n",
       "3  1  1          4     2.5\n",
       "4  1  2          1     4.6"
      ]
     },
     "execution_count": 3,
     "metadata": {},
     "output_type": "execute_result"
    }
   ],
   "source": [
    "fever.head()"
   ]
  },
  {
   "cell_type": "code",
   "execution_count": 4,
   "metadata": {},
   "outputs": [
    {
     "name": "stdout",
     "output_type": "stream",
     "text": [
      "<class 'pandas.core.frame.DataFrame'>\n",
      "RangeIndex: 36 entries, 0 to 35\n",
      "Data columns (total 4 columns):\n",
      " #   Column     Non-Null Count  Dtype  \n",
      "---  ------     --------------  -----  \n",
      " 0   A          36 non-null     int64  \n",
      " 1   B          36 non-null     int64  \n",
      " 2   Volunteer  36 non-null     int64  \n",
      " 3   Relief     36 non-null     float64\n",
      "dtypes: float64(1), int64(3)\n",
      "memory usage: 1.2 KB\n"
     ]
    }
   ],
   "source": [
    "fever.info()"
   ]
  },
  {
   "cell_type": "code",
   "execution_count": 5,
   "metadata": {},
   "outputs": [
    {
     "data": {
      "text/plain": [
       "3    12\n",
       "2    12\n",
       "1    12\n",
       "Name: A, dtype: int64"
      ]
     },
     "execution_count": 5,
     "metadata": {},
     "output_type": "execute_result"
    }
   ],
   "source": [
    "fever['A'].value_counts()"
   ]
  },
  {
   "cell_type": "code",
   "execution_count": 6,
   "metadata": {},
   "outputs": [
    {
     "data": {
      "text/plain": [
       "3    12\n",
       "2    12\n",
       "1    12\n",
       "Name: B, dtype: int64"
      ]
     },
     "execution_count": 6,
     "metadata": {},
     "output_type": "execute_result"
    }
   ],
   "source": [
    "fever['B'].value_counts()"
   ]
  },
  {
   "cell_type": "code",
   "execution_count": 7,
   "metadata": {},
   "outputs": [
    {
     "data": {
      "text/plain": [
       "A            0\n",
       "B            0\n",
       "Volunteer    0\n",
       "Relief       0\n",
       "dtype: int64"
      ]
     },
     "execution_count": 7,
     "metadata": {},
     "output_type": "execute_result"
    }
   ],
   "source": [
    "fever.isna().sum()"
   ]
  },
  {
   "cell_type": "code",
   "execution_count": 8,
   "metadata": {},
   "outputs": [],
   "source": [
    "fever['A'] = pd.Categorical(fever['A'])"
   ]
  },
  {
   "cell_type": "code",
   "execution_count": 9,
   "metadata": {},
   "outputs": [
    {
     "data": {
      "text/plain": [
       "<bound method IndexOpsMixin.value_counts of 0     1\n",
       "1     1\n",
       "2     1\n",
       "3     1\n",
       "4     1\n",
       "5     1\n",
       "6     1\n",
       "7     1\n",
       "8     1\n",
       "9     1\n",
       "10    1\n",
       "11    1\n",
       "12    2\n",
       "13    2\n",
       "14    2\n",
       "15    2\n",
       "16    2\n",
       "17    2\n",
       "18    2\n",
       "19    2\n",
       "20    2\n",
       "21    2\n",
       "22    2\n",
       "23    2\n",
       "24    3\n",
       "25    3\n",
       "26    3\n",
       "27    3\n",
       "28    3\n",
       "29    3\n",
       "30    3\n",
       "31    3\n",
       "32    3\n",
       "33    3\n",
       "34    3\n",
       "35    3\n",
       "Name: A, dtype: category\n",
       "Categories (3, int64): [1, 2, 3]>"
      ]
     },
     "execution_count": 9,
     "metadata": {},
     "output_type": "execute_result"
    }
   ],
   "source": [
    "fever['A'].value_counts"
   ]
  },
  {
   "cell_type": "code",
   "execution_count": 10,
   "metadata": {},
   "outputs": [],
   "source": [
    "fever['B'] = pd.Categorical(fever['B'])"
   ]
  },
  {
   "cell_type": "code",
   "execution_count": 11,
   "metadata": {},
   "outputs": [
    {
     "data": {
      "text/plain": [
       "<bound method IndexOpsMixin.value_counts of 0     1\n",
       "1     1\n",
       "2     1\n",
       "3     1\n",
       "4     2\n",
       "5     2\n",
       "6     2\n",
       "7     2\n",
       "8     3\n",
       "9     3\n",
       "10    3\n",
       "11    3\n",
       "12    1\n",
       "13    1\n",
       "14    1\n",
       "15    1\n",
       "16    2\n",
       "17    2\n",
       "18    2\n",
       "19    2\n",
       "20    3\n",
       "21    3\n",
       "22    3\n",
       "23    3\n",
       "24    1\n",
       "25    1\n",
       "26    1\n",
       "27    1\n",
       "28    2\n",
       "29    2\n",
       "30    2\n",
       "31    2\n",
       "32    3\n",
       "33    3\n",
       "34    3\n",
       "35    3\n",
       "Name: B, dtype: category\n",
       "Categories (3, int64): [1, 2, 3]>"
      ]
     },
     "execution_count": 11,
     "metadata": {},
     "output_type": "execute_result"
    }
   ],
   "source": [
    "fever['B'].value_counts"
   ]
  },
  {
   "cell_type": "markdown",
   "metadata": {},
   "source": [
    " 1.1) State the Null and Alternate Hypothesis for conducting one-way ANOVA for both the variables ‘A’ and ‘B’ individually. [both statement and statistical form like Ho=mu, Ha>mu]"
   ]
  },
  {
   "cell_type": "markdown",
   "metadata": {},
   "source": [
    "Formulating the Hypothesis for One-way ANOVA for the variable A :\n",
    "\n",
    "Statement:\n",
    "\n",
    "H0 =  the population means of all the three levels in the variable A are same  \n",
    "H1 = the population mean of at least one level in the variable A is different\n",
    "\n",
    "Statistical form:\n",
    "\n",
    "H0 : µ1 = µ2 = µ3  \n",
    "H1 : not all the means µ1, µ2, µ3 are equal"
   ]
  },
  {
   "cell_type": "markdown",
   "metadata": {},
   "source": [
    "Formulating the Hypothesis for One-way ANOVA for the variable B :\n",
    "\n",
    "Statement:\n",
    "\n",
    "H0 =  the population means of all the three levels in the variable B are same  \n",
    "H1 = the population mean of at least one level in the variable B is different\n",
    "\n",
    "Statistical form:\n",
    "\n",
    "H0 : µ1 = µ2 = µ3  \n",
    "H1 : not all the means µ1, µ2, µ3 are equal"
   ]
  },
  {
   "cell_type": "markdown",
   "metadata": {},
   "source": [
    "1.2) Perform one-way ANOVA for variable ‘A’ with respect to the variable ‘Relief’. State whether the Null Hypothesis is accepted or rejected based on the ANOVA results."
   ]
  },
  {
   "cell_type": "code",
   "execution_count": 12,
   "metadata": {},
   "outputs": [
    {
     "name": "stdout",
     "output_type": "stream",
     "text": [
      "STEP 1: One-Way Anova Hypothesis for Ingredient \"A\" : \n",
      " H0 : µ1 = µ2 = µ3 \n",
      " H1 : at least one pair of means are not equal  \n",
      "\n",
      "STEP 2: Consider the level of significanace (α) as 0.05 \n",
      "\n",
      "STEP 3: Using the F- test statistic in One-Way ANOVA. \n",
      "\n",
      "            df  sum_sq     mean_sq          F        PR(>F)\n",
      "C(A)       2.0  220.02  110.010000  23.465387  4.578242e-07\n",
      "Residual  33.0  154.71    4.688182        NaN           NaN\n"
     ]
    }
   ],
   "source": [
    "print('STEP 1: One-Way Anova Hypothesis for Ingredient \"A\" : \\n H0 : µ1 = µ2 = µ3 \\n H1 : at least one pair of means are not equal  \\n')\n",
    "print('STEP 2: Consider the level of significanace (α) as 0.05 \\n')\n",
    "print('STEP 3: Using the F- test statistic in One-Way ANOVA. \\n')\n",
    "formula  = 'Relief ~ C(A)'\n",
    "model = ols(formula,fever).fit()\n",
    "anova_tab = anova_lm(model)\n",
    "print(anova_tab)"
   ]
  },
  {
   "cell_type": "code",
   "execution_count": 13,
   "metadata": {},
   "outputs": [
    {
     "name": "stdout",
     "output_type": "stream",
     "text": [
      "            df  sum_sq     mean_sq          F        PR(>F)\n",
      "A          2.0  220.02  110.010000  23.465387  4.578242e-07\n",
      "Residual  33.0  154.71    4.688182        NaN           NaN\n"
     ]
    }
   ],
   "source": [
    "formula  = 'Relief ~ A'#(wrong)\n",
    "model = ols(formula,fever).fit()\n",
    "anova_tab = anova_lm(model)\n",
    "print(anova_tab)"
   ]
  },
  {
   "cell_type": "markdown",
   "metadata": {},
   "source": [
    "The p value is less than the level of significance, we can reject the Null Hypothesis.  \n",
    "Hence, we have evidence that there is difference in the mean of three levels in Ingredient A and not all of the means are same ."
   ]
  },
  {
   "cell_type": "markdown",
   "metadata": {},
   "source": [
    "1.3) Perform one-way ANOVA for variable ‘B’ with respect to the variable ‘Relief’. State whether the Null Hypothesis is accepted or rejected based on the ANOVA results."
   ]
  },
  {
   "cell_type": "code",
   "execution_count": 14,
   "metadata": {},
   "outputs": [
    {
     "name": "stdout",
     "output_type": "stream",
     "text": [
      "STEP 1: One-Way Anova Hypothesis for Ingredient \"B\" : \n",
      " H0 : µ1 = µ2 = µ3 \n",
      " H1 : at least one pair of means are not equal \n",
      "\n",
      "STEP 2: Consider the level of significanace (α) as 0.05 \n",
      "\n",
      "STEP 3: Using the F- test statistic in One-Way ANOVA. \n",
      "\n",
      "            df  sum_sq    mean_sq         F   PR(>F)\n",
      "C(B)       2.0  123.66  61.830000  8.126777  0.00135\n",
      "Residual  33.0  251.07   7.608182       NaN      NaN\n"
     ]
    }
   ],
   "source": [
    "print('STEP 1: One-Way Anova Hypothesis for Ingredient \"B\" : \\n H0 : µ1 = µ2 = µ3 \\n H1 : at least one pair of means are not equal \\n')\n",
    "print('STEP 2: Consider the level of significanace (α) as 0.05 \\n')\n",
    "print('STEP 3: Using the F- test statistic in One-Way ANOVA. \\n')\n",
    "formula1  = 'Relief ~ C(B)'\n",
    "model1 = ols(formula1,fever).fit()\n",
    "anova_tab1 = anova_lm(model1)\n",
    "print(anova_tab1)"
   ]
  },
  {
   "cell_type": "code",
   "execution_count": 15,
   "metadata": {},
   "outputs": [
    {
     "name": "stdout",
     "output_type": "stream",
     "text": [
      "            df  sum_sq    mean_sq         F   PR(>F)\n",
      "B          2.0  123.66  61.830000  8.126777  0.00135\n",
      "Residual  33.0  251.07   7.608182       NaN      NaN\n"
     ]
    }
   ],
   "source": [
    "formula1  = 'Relief ~ B'\n",
    "model1 = ols(formula1,fever).fit()\n",
    "anova_tab1 = anova_lm(model1,type=1)\n",
    "print(anova_tab1)"
   ]
  },
  {
   "cell_type": "markdown",
   "metadata": {},
   "source": [
    "The p value is less than the level of significance, we can reject the Null Hypothesis.  \n",
    "Hence, we have evidence that there is difference in the mean of three levels in the Ingredient B and not all of the means are same ."
   ]
  },
  {
   "cell_type": "markdown",
   "metadata": {},
   "source": [
    "1.4) Analyse the effects of one variable on another with the help of an interaction plot.\n",
    "What is the interaction between the two treatments?"
   ]
  },
  {
   "cell_type": "code",
   "execution_count": 16,
   "metadata": {},
   "outputs": [
    {
     "data": {
      "text/plain": [
       "<AxesSubplot:xlabel='A', ylabel='Relief'>"
      ]
     },
     "execution_count": 16,
     "metadata": {},
     "output_type": "execute_result"
    },
    {
     "data": {
      "image/png": "[encoded data removed]",
      "text/plain": [
       "<Figure size 432x288 with 1 Axes>"
      ]
     },
     "metadata": {
      "needs_background": "light"
     },
     "output_type": "display_data"
    }
   ],
   "source": [
    "sns.pointplot(x='A', y='Relief', data=fever, hue='B', ci=None)"
   ]
  },
  {
   "cell_type": "markdown",
   "metadata": {},
   "source": [
    "The point plot shows the interactions of the one categorical variables across different levels of another categorical variables.\n",
    "From the above point plot, it is evident that both the Ingredient 'A' and Ingredient 'B' are interacting with each other across three different groups/levels, because the distance between the means across the three levels are not the same.\n",
    "The group 1 of Ingredient A is very closely interacted with group 2 and group 3 of Ingredient B.  \n",
    "The group 2 of Ingredient A is slightly interacting with group 2 and group 3 of Ingredient B."
   ]
  },
  {
   "cell_type": "code",
   "execution_count": 17,
   "metadata": {},
   "outputs": [
    {
     "data": {
      "text/plain": [
       "<AxesSubplot:xlabel='A', ylabel='Relief'>"
      ]
     },
     "execution_count": 17,
     "metadata": {},
     "output_type": "execute_result"
    },
    {
     "data": {
      "image/png": "[encoded data removed]",
      "text/plain": [
       "<Figure size 432x288 with 1 Axes>"
      ]
     },
     "metadata": {
      "needs_background": "light"
     },
     "output_type": "display_data"
    }
   ],
   "source": [
    "sns.pointplot(x='A', y='Relief', data=fever, ci=None)"
   ]
  },
  {
   "cell_type": "code",
   "execution_count": 18,
   "metadata": {},
   "outputs": [
    {
     "data": {
      "text/plain": [
       "<AxesSubplot:xlabel='B', ylabel='Relief'>"
      ]
     },
     "execution_count": 18,
     "metadata": {},
     "output_type": "execute_result"
    },
    {
     "data": {
      "image/png": "[encoded data removed]",
      "text/plain": [
       "<Figure size 432x288 with 1 Axes>"
      ]
     },
     "metadata": {
      "needs_background": "light"
     },
     "output_type": "display_data"
    }
   ],
   "source": [
    "sns.pointplot(x='B', y='Relief', data=fever, ci=None)"
   ]
  },
  {
   "cell_type": "code",
   "execution_count": 20,
   "metadata": {},
   "outputs": [
    {
     "data": {
      "text/plain": [
       "<AxesSubplot:xlabel='B', ylabel='Relief'>"
      ]
     },
     "execution_count": 20,
     "metadata": {},
     "output_type": "execute_result"
    },
    {
     "data": {
      "image/png": "[encoded data removed]",
      "text/plain": [
       "<Figure size 432x288 with 1 Axes>"
      ]
     },
     "metadata": {
      "needs_background": "light"
     },
     "output_type": "display_data"
    }
   ],
   "source": [
    "sns.pointplot(x='B', y='Relief', data=fever, hue='A', ci=None)"
   ]
  },
  {
   "cell_type": "markdown",
   "metadata": {},
   "source": [
    "1.5) Perform a two-way ANOVA based on the different ingredients (variable ‘A’ & ‘B’ along with their interaction 'A*B') with the variable 'Relief' and state your results."
   ]
  },
  {
   "cell_type": "markdown",
   "metadata": {},
   "source": [
    "Step 1:\n",
    "\n",
    "$H_0$ : The means of 'Relief' variable with respect to each Ingredient 'A' and 'B' is equal.\n",
    "\n",
    "$H_1$ : At least one of the means of 'Relief' variable with respect to each Ingredient 'A' and 'B' is unequal.\n",
    "\n",
    "Step 2:\n",
    "\n",
    "Consider the level of significanace (α) as 0.05\n",
    "\n",
    "Step 3:\n",
    "Using the $ F- test statistic $ in Two-Way ANOVA ."
   ]
  },
  {
   "cell_type": "code",
   "execution_count": 21,
   "metadata": {},
   "outputs": [
    {
     "name": "stdout",
     "output_type": "stream",
     "text": [
      "STEP 1: Two-Way Anova Hypothesis for Ingredient A and Ingredient B with variable Relief.  \n",
      "\n",
      " H0 : The means of Relief variable with respect to each Ingredient A and B is equal. \n",
      " \n",
      " H1 : At least one of the means of Relief variable with respect to each Ingredient A and B is unequal. \n",
      "\n",
      "STEP 2: Consider the level of significanace (α) as 0.05 \n",
      "\n",
      "STEP 3: Using the F- test statistic in Two-Way ANOVA. \n",
      "\n",
      "             df   sum_sq     mean_sq            F        PR(>F)\n",
      "C(A)        2.0  220.020  110.010000  1827.858462  1.514043e-29\n",
      "C(B)        2.0  123.660   61.830000  1027.329231  3.348751e-26\n",
      "C(A):C(B)   4.0   29.425    7.356250   122.226923  6.972083e-17\n",
      "Residual   27.0    1.625    0.060185          NaN           NaN\n"
     ]
    }
   ],
   "source": [
    "print('STEP 1: Two-Way Anova Hypothesis for Ingredient A and Ingredient B with variable Relief.  \\n')\n",
    "print(' H0 : The means of Relief variable with respect to each Ingredient A and B is equal. \\n ')\n",
    "print(' H1 : At least one of the means of Relief variable with respect to each Ingredient A and B is unequal. \\n')\n",
    "print('STEP 2: Consider the level of significanace (α) as 0.05 \\n')\n",
    "print('STEP 3: Using the F- test statistic in Two-Way ANOVA. \\n')\n",
    "formula  = 'Relief ~ C(A) + C(B) + C(A):C(B)'\n",
    "model = ols(formula,fever).fit()\n",
    "anova_tab = anova_lm(model,type=2)\n",
    "print(anova_tab)"
   ]
  },
  {
   "cell_type": "markdown",
   "metadata": {},
   "source": [
    "In the Two-Way ANOVA with interaction effect, the p-value for the Ingredient A (P=1.514043e-29) which is significant(>0.05), the p-value Ingredient B (P=3.348751e-26) is also significant(>0.05).  \n",
    "The interaction between the Ingredient A and Ingredient B (P=6.972083e-17) is less than the level of significance of 0.05.\n",
    "Because the interaction effect between Ingredient A and Ingredient B is statistically significant, you cannot interpret the main effects without considering the interaction effect.\n",
    "Hence, we can reject the Null Hypothesis, stating that there is significant interaction between the levels of Ingredient A and Ingredient B."
   ]
  },
  {
   "cell_type": "code",
   "execution_count": 22,
   "metadata": {},
   "outputs": [
    {
     "name": "stdout",
     "output_type": "stream",
     "text": [
      "             df      sum_sq     mean_sq            F        PR(>F)\n",
      "C(A)        2.0  220.020000  110.010000  1760.400739  1.765119e-28\n",
      "C(B)        2.0  123.660000   61.830000   989.415305  2.935240e-25\n",
      "C(A):C(B)   4.0   29.425000    7.356250   117.716098  2.938033e-16\n",
      "Volunteer   1.0    0.000222    0.000222     0.003556  9.529043e-01\n",
      "Residual   26.0    1.624778    0.062491          NaN           NaN\n"
     ]
    }
   ],
   "source": [
    "formula  = 'Relief ~ C(A) + C(B) + Volunteer + C(A):C(B)'\n",
    "model = ols(formula,fever).fit()\n",
    "anova_tab = anova_lm(model,type=2)\n",
    "print(anova_tab)"
   ]
  },
  {
   "cell_type": "markdown",
   "metadata": {},
   "source": [
    "In the Two-Way ANOVA with the randomized variable and interaction effect, the p-value of Ingredient A (P=1.765119e-28) is significant, the p-value of Ingredient B (P=2.935240e-25) and the interaction between Ingredient A and Ingredient B (P=2.938033e-16) is statistically significant. The p-value of the randomized variable Volunteer (P= 9.529043e-01) is not significant, i.e, the main effect and interaction effect are not affected by the random variable.\n",
    "Hence, we can reject the Null Hypothesis in this case."
   ]
  },
  {
   "cell_type": "markdown",
   "metadata": {},
   "source": [
    "1.6) Mention the business implications of performing ANOVA for this particular case study."
   ]
  },
  {
   "cell_type": "code",
   "execution_count": 23,
   "metadata": {},
   "outputs": [
    {
     "data": {
      "text/html": [
       "<table class=\"simpletable\">\n",
       "<caption>Multiple Comparison of Means - Tukey HSD, FWER=0.05</caption>\n",
       "<tr>\n",
       "  <th>group1</th> <th>group2</th> <th>meandiff</th>  <th>p-adj</th>  <th>lower</th>   <th>upper</th> <th>reject</th>\n",
       "</tr>\n",
       "<tr>\n",
       "     <td>1</td>      <td>2</td>     <td>3.95</td>    <td>0.001</td> <td>1.7814</td>  <td>6.1186</td>  <td>True</td> \n",
       "</tr>\n",
       "<tr>\n",
       "     <td>1</td>      <td>3</td>     <td>5.95</td>    <td>0.001</td> <td>3.7814</td>  <td>8.1186</td>  <td>True</td> \n",
       "</tr>\n",
       "<tr>\n",
       "     <td>2</td>      <td>3</td>      <td>2.0</td>   <td>0.0755</td> <td>-0.1686</td> <td>4.1686</td>  <td>False</td>\n",
       "</tr>\n",
       "</table>"
      ],
      "text/plain": [
       "<class 'statsmodels.iolib.table.SimpleTable'>"
      ]
     },
     "execution_count": 23,
     "metadata": {},
     "output_type": "execute_result"
    }
   ],
   "source": [
    "tukey = pairwise_tukeyhsd(fever['Relief'], fever['A'])\n",
    "tukey.summary()"
   ]
  },
  {
   "cell_type": "code",
   "execution_count": 24,
   "metadata": {},
   "outputs": [
    {
     "data": {
      "text/html": [
       "<table class=\"simpletable\">\n",
       "<caption>Multiple Comparison of Means - Tukey HSD, FWER=0.05</caption>\n",
       "<tr>\n",
       "  <th>group1</th> <th>group2</th> <th>meandiff</th>  <th>p-adj</th>  <th>lower</th>   <th>upper</th> <th>reject</th>\n",
       "</tr>\n",
       "<tr>\n",
       "     <td>1</td>      <td>2</td>      <td>3.3</td>   <td>0.0164</td> <td>0.5374</td>  <td>6.0626</td>  <td>True</td> \n",
       "</tr>\n",
       "<tr>\n",
       "     <td>1</td>      <td>3</td>     <td>4.35</td>   <td>0.0014</td> <td>1.5874</td>  <td>7.1126</td>  <td>True</td> \n",
       "</tr>\n",
       "<tr>\n",
       "     <td>2</td>      <td>3</td>     <td>1.05</td>   <td>0.6164</td> <td>-1.7126</td> <td>3.8126</td>  <td>False</td>\n",
       "</tr>\n",
       "</table>"
      ],
      "text/plain": [
       "<class 'statsmodels.iolib.table.SimpleTable'>"
      ]
     },
     "execution_count": 24,
     "metadata": {},
     "output_type": "execute_result"
    }
   ],
   "source": [
    "tukey = pairwise_tukeyhsd(fever['Relief'], fever['B'])\n",
    "tukey.summary()"
   ]
  },
  {
   "cell_type": "code",
   "execution_count": null,
   "metadata": {},
   "outputs": [],
   "source": []
  }
 ],
 "metadata": {
  "kernelspec": {
   "display_name": "Python 3",
   "language": "python",
   "name": "python3"
  },
  "language_info": {
   "codemirror_mode": {
    "name": "ipython",
    "version": 3
   },
   "file_extension": ".py",
   "mimetype": "text/x-python",
   "name": "python",
   "nbconvert_exporter": "python",
   "pygments_lexer": "ipython3",
   "version": "3.7.4"
  }
 },
 "nbformat": 4,
 "nbformat_minor": 2
}
